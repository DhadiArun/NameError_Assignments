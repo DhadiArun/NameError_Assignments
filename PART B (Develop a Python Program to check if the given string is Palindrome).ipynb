{
 "cells": [
  {
   "cell_type": "code",
   "execution_count": 5,
   "metadata": {},
   "outputs": [
    {
     "name": "stdout",
     "output_type": "stream",
     "text": [
      "Enter a word:NameErrorrorrEemaN\n",
      "It is Palindrome\n"
     ]
    }
   ],
   "source": [
    "def reverse(a):    #we define and create a function to get the reverse of the given string\n",
    "    return a[::-1]\n",
    "word=input(\"Enter a word:\")   #we Take input from the user\n",
    "x = word                      # we are copying the input string to variable a\n",
    "x = reverse(x)                 # we are then calling the reverse function and applying it to variable a\n",
    "if x==word:                    # we are checking if the given word and the reverse i.e. a  are same\n",
    "    print(\"It is Palindrome\")\n",
    "else:\n",
    "    print(\"It is not a plaindrome\")\n"
   ]
  },
  {
   "cell_type": "code",
   "execution_count": null,
   "metadata": {},
   "outputs": [],
   "source": []
  }
 ],
 "metadata": {
  "kernelspec": {
   "display_name": "Python 3",
   "language": "python",
   "name": "python3"
  },
  "language_info": {
   "codemirror_mode": {
    "name": "ipython",
    "version": 3
   },
   "file_extension": ".py",
   "mimetype": "text/x-python",
   "name": "python",
   "nbconvert_exporter": "python",
   "pygments_lexer": "ipython3",
   "version": "3.7.6"
  }
 },
 "nbformat": 4,
 "nbformat_minor": 4
}
