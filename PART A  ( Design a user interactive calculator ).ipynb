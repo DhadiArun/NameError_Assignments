{
 "cells": [
  {
   "cell_type": "code",
   "execution_count": 2,
   "metadata": {},
   "outputs": [
    {
     "name": "stdout",
     "output_type": "stream",
     "text": [
      "Enter Your Choice of Operation:\n",
      " 1.Sum\n",
      " 2.Sub\n",
      " 3. Multiplication\n",
      " 4.Divison\n",
      " 5.Speed\n",
      " 6.Simple Interest \n",
      " 7.exit6\n",
      "Enter the principal amount:100\n",
      "Enter the rate of interest:10\n",
      "Enter the time period in years:3\n",
      "The interest for the given sum and rate is: 30.0\n",
      "Enter Your Choice of Operation:\n",
      " 1.Sum\n",
      " 2.Sub\n",
      " 3. Multiplication\n",
      " 4.Divison\n",
      " 5.Speed\n",
      " 6.Simple Interest \n",
      " 7.exit7\n"
     ]
    }
   ],
   "source": [
    "def add():        #defining a function for addition\n",
    "    a=float(input(\"Enter the first Number:\"))       #taking the first number and second number as input from user.\n",
    "    b=float(input(\"Enter the Second Number:\"))      # using float so user can give decimal numbers\n",
    "    addition=a+b\n",
    "    print(\"Sum of the numbers is:\",addition)\n",
    "def sub():        #defining a function for subtraction\n",
    "    a=float(input(\"Enter the first Number:\"))\n",
    "    b=float(input(\"ENter the Second Number:\"))\n",
    "    subtrction=a-b\n",
    "    print(\"The sub of Numbers is:\",subtraction)\n",
    "def mult():        #defining a function for multiplication\n",
    "    a=float(input(\"Enter the first Number:\"))\n",
    "    b=float(input(\"ENter the Second Number:\"))\n",
    "    multiplication=a*b\n",
    "    print(\"The Product of Numbers is:\",multiplication)\n",
    "def div():          #defining a function for division\n",
    "    a=float(input(\"Enter the Number to be divided:\"))\n",
    "    b=float(input(\"ENter the Number to divide witht the first number:\"))    \n",
    "    divi=a/b    \n",
    "    print(\"The Division of numbers is:\",divi) \n",
    "def speed():      #defining a function for speed\n",
    "    a= float(input(\"Enter the Distance (in Km):\"))    #a will store the value of distance\n",
    "    b=float(input(\"Enter the time taken to travel the given distance (in hours):\"))  #b will store the time value\n",
    "    spee= a/b     # we know Speed = Distance divided by time\n",
    "    print(\"Speed is (in Km/Hr):\",spee)\n",
    "def interest():      #defining a function for calculating interest\n",
    "    prin=float(input(\"Enter the principal amount:\"))     #prin will sotre the principle amount\n",
    "    rate=float(input(\"Enter the rate of interest:\"))     #rate variable will store the rate of interest\n",
    "    no=float(input(\"Enter the time period in years:\"))   # no will store the No of years\n",
    "    int= (prin*rate*no)/100                    # we know the basic forumla for simple interest\n",
    "    print(\"The interest for the given sum and rate is:\",int)\n",
    "while True:      #in this section we will allow the user to choose unit the user exits\n",
    "    x=int(input(\"Enter Your Choice of Operation:\\n 1.Sum\\n 2.Sub\\n 3. Multiplication\\n 4.Divison\\n 5.Speed\\n 6.Simple Interest \\n 7.exit\"))\n",
    "    #Here we are taking input from user which operations they will choose. based on the input we will call functions\n",
    "    # we are storing those values in variable x and then using below functions\n",
    "    if x==1:\n",
    "        add()    #if they choose 1 we call addition function that we have defined earlier\n",
    "    elif x==2:\n",
    "        sub()    # we call the subtraction function\n",
    "    elif x==3:\n",
    "        mult()    #we call the multiplication function\n",
    "    elif x==4:\n",
    "        div()     #we call the division function\n",
    "    elif x==5:\n",
    "        speed()    #we call the speed calculator function\n",
    "    elif x==6:\n",
    "        interest()    # we call the simple interest function\n",
    "    elif x==7:\n",
    "        break    #if user wants to exit\n",
    "    else:\n",
    "        print(\"Invalid Input\")"
   ]
  },
  {
   "cell_type": "code",
   "execution_count": null,
   "metadata": {},
   "outputs": [],
   "source": []
  }
 ],
 "metadata": {
  "kernelspec": {
   "display_name": "Python 3",
   "language": "python",
   "name": "python3"
  },
  "language_info": {
   "codemirror_mode": {
    "name": "ipython",
    "version": 3
   },
   "file_extension": ".py",
   "mimetype": "text/x-python",
   "name": "python",
   "nbconvert_exporter": "python",
   "pygments_lexer": "ipython3",
   "version": "3.7.6"
  }
 },
 "nbformat": 4,
 "nbformat_minor": 4
}
